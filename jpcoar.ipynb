{
 "cells": [
  {
   "cell_type": "code",
   "execution_count": 1,
   "id": "e327aea9-6794-46e4-90d8-2c748b3b6381",
   "metadata": {},
   "outputs": [
    {
     "name": "stdout",
     "output_type": "stream",
     "text": [
      "<?xml version='1.0' encoding='utf-8'?>\n",
      "<jpcoar:jpcoar xmlns:datacite=\"https://schema.datacite.org/meta/kernel-4/\" xmlns:dc=\"http://purl.org/dc/elements/1.1/\" xmlns:dcterms=\"http://purl.org/dc/terms/\" xmlns:jpcoar=\"https://github.com/JPCOAR/schema/blob/master/2.0/\" xmlns:oaire=\"http://namespace.openaire.eu/schema/oaire/\" xmlns:rdf=\"http://www.w3.org/1999/02/22-rdf-syntax-ns#\" xmlns:xsi=\"http://www.w3.org/2001/XMLSchema-instance\" xsi:schemaLocation=\"https://github.com/JPCOAR/schema/blob/master/2.0/ jpcoar_scm.xsd\">\n",
      "  <dc:title>情報爆発時代の研究基盤構想</dc:title>\n",
      "  <dc:title>Research Project on Cyber Infrastructure for Information-explosion Era</dc:title>\n",
      "  <dc:title>ジョウホウ バクハツ ジダイ ノ ケンキュウ キバン コウソウ</dc:title>\n",
      "  <dc:title>Joho bakuhatsu jidai no kenkyu kiban koso</dc:title>\n",
      "  <jpcoar:creator creatorType=\"著\">\n",
      "    <jpcoar:nameIdentifier nameIdentifierScheme=\"ORCID\" nameIdentifierURI=\"https://orcid.org/0000-0001-0002-0003\">https://orcid.org/0000-0001-0002-0003</jpcoar:nameIdentifier>\n",
      "    <jpcoar:creatorName xml:lang=\"ja\">安達, 淳</jpcoar:creatorName>\n",
      "    <jpcoar:creatorName xml:lang=\"en\">Adachi, Jun</jpcoar:creatorName>\n",
      "    <jpcoar:creatorName xml:lang=\"ja-Kana\">アダチ, ジュン</jpcoar:creatorName>\n",
      "    <jpcoar:affiliation>\n",
      "      <jpcoar:nameIdentifier nameIdentifierScheme=\"ISNI\" nameIdentifierURI=\"http://www.isni.org/isni/0000000121691048\">http://www.isni.org/isni/0000000121691048</jpcoar:nameIdentifier>\n",
      "      <jpcoar:affiliationName xml:lang=\"ja\">東京大学</jpcoar:affiliationName>\n",
      "      <jpcoar:affiliationName xml:lang=\"en\">The University of Tokyo</jpcoar:affiliationName>\n",
      "    </jpcoar:affiliation>\n",
      "  </jpcoar:creator>\n",
      "  <dcterms:accessRights>open access</dcterms:accessRights>\n",
      "  <dc:rights xml:lang=\"en\" rdf:resource=\"https://creativecommons.org/licenses/by/4.0/deed.en\">https://creativecommons.org/licenses/by/4.0/deed.en</dc:rights>\n",
      "  <jpcoar:subject xml:lang=\"ja\" subjectScheme=\"Other\">情報爆発</jpcoar:subject>\n",
      "  <jpcoar:subject xml:lang=\"ja\" subjectScheme=\"Other\">データマイニング</jpcoar:subject>\n",
      "  <dc:publisher xml:lang=\"ja\">東京大学大学院情報学環</dc:publisher>\n",
      "  <datacite:date dateType=\"Issued\">2015-10-01</datacite:date>\n",
      "  <dc:language>jpn</dc:language>\n",
      "  <dc:type rdf:resource=\"http://purl.org/coar/resource_type/c_6501\">departmental bulletin paper</dc:type>\n",
      "  <oaire:version rdf:resource=\"http://purl.org/coar/version/c_970fb48d4fbd8a85\">VoR</oaire:version>\n",
      "  <jpcoar:identifier identifierType=\"DOI\">https://doi.org/10.15017/64495</jpcoar:identifier>\n",
      "  <jpcoar:identifier identifierType=\"HDL\">http://hdl.handle.net/2115/64495</jpcoar:identifier>\n",
      "  <jpcoar:identifierRegistration identifierType=\"JaLC\">10.15017/64495</jpcoar:identifierRegistration>\n",
      "  <jpcoar:fundingReference>\n",
      "    <jpcoar:funderIdentifier funderIdentifierType=\"e-Rad_funder\">1025</jpcoar:funderIdentifier>\n",
      "    <jpcoar:funderName xml:lang=\"ja\">日本学術振興会</jpcoar:funderName>\n",
      "    <jpcoar:fundingStream xml:lang=\"ja\">科学研究費助成事業</jpcoar:fundingStream>\n",
      "    <jpcoar:awardNumber awardURI=\"https://kaken.nii.ac.jp/ja/grant/KAKENHI-PLANNED-18049069/\" awardNumberType=\"JGN\">JP18049069</jpcoar:awardNumber>\n",
      "    <jpcoar:awardTitle xml:lang=\"ja\">情報爆発時代の情報検索基盤技術</jpcoar:awardTitle>\n",
      "  </jpcoar:fundingReference>\n",
      "  <jpcoar:sourceIdentifier identifierType=\"PISSN\">1880-697X</jpcoar:sourceIdentifier>\n",
      "  <jpcoar:sourceIdentifier identifierType=\"NCID\">AA12032633</jpcoar:sourceIdentifier>\n",
      "  <jpcoar:sourceTitle xml:lang=\"ja\">東京大学大学院情報学環紀要 情報学研究</jpcoar:sourceTitle>\n",
      "  <jpcoar:sourceTitle xml:lang=\"en\">Journal of information studies</jpcoar:sourceTitle>\n",
      "  <jpcoar:volume>12</jpcoar:volume>\n",
      "  <jpcoar:issue>3</jpcoar:issue>\n",
      "  <jpcoar:numPages>24</jpcoar:numPages>\n",
      "  <jpcoar:pageStart>34</jpcoar:pageStart>\n",
      "  <jpcoar:pageEnd>57</jpcoar:pageEnd>\n",
      "  <jpcoar:file>\n",
      "    <jpcoar:URI objectType=\"fulltext\" label=\"JIS_12_3_34-57.pdf\">http://repository.dl.itc.u-tokyo.ac.jp/files/64495/JIS_12_3_34-57.pdf</jpcoar:URI>\n",
      "    <jpcoar:extent>3MB</jpcoar:extent>\n",
      "    <jpcoar:extent>24 pages</jpcoar:extent>\n",
      "    <datacite:date dateType=\"Issued\">2015-10-01</datacite:date>\n",
      "  </jpcoar:file>\n",
      "</jpcoar:jpcoar>\n"
     ]
    }
   ],
   "source": [
    "!./jpcoar.py samples/01_departmental_bulletin_paper_oa.yaml"
   ]
  }
 ],
 "metadata": {
  "kernelspec": {
   "display_name": "Python 3 (ipykernel)",
   "language": "python",
   "name": "python3"
  },
  "language_info": {
   "codemirror_mode": {
    "name": "ipython",
    "version": 3
   },
   "file_extension": ".py",
   "mimetype": "text/x-python",
   "name": "python",
   "nbconvert_exporter": "python",
   "pygments_lexer": "ipython3",
   "version": "3.12.8"
  }
 },
 "nbformat": 4,
 "nbformat_minor": 5
}
